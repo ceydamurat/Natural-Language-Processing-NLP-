{
 "cells": [
  {
   "cell_type": "markdown",
   "id": "444c8f6e",
   "metadata": {},
   "source": [
    "# İŞ PROBLEMİ"
   ]
  },
  {
   "cell_type": "markdown",
   "id": "a5f47b26",
   "metadata": {},
   "source": [
    "Amazon üzerinden satışlarını gerçekleştiren ev tekstili ve günlük giyim odaklı üretimler yapan Kozmos ürünlerine gelen yorumları analiz ederek ve aldığı şikayetlere göre özelliklerini geliştirerek satışlarını artırmayı hedeflemektedir. Bu hedef doğrultusunda yorumlara duygu analizi yapılarak etiketlencek ve etiketlenen veri ile sınıflandırma modeli oluşturulacaktır."
   ]
  },
  {
   "cell_type": "markdown",
   "id": "254c641e",
   "metadata": {},
   "source": [
    "# Veri Seti Hikayesi"
   ]
  },
  {
   "cell_type": "markdown",
   "id": "c686a077",
   "metadata": {},
   "source": [
    "* Veri seti belirli bir ürün grubuna ait yapılan yorumları, yorum başlığını, yıldız sayısını ve yapılan yorumu kaç kişinin faydalı bulduğunu belirten değişkenlerden oluşmaktadır.\n",
    "\n",
    "\n",
    "     . Star: Ürüne verilen yıldız sayısı\n",
    "     . HelpFul: Yorumu faydalı bulan kişi sayısı\n",
    "     . Title: Yorum içeriğine verilen başlık, kısa yorum\n",
    "     . Review: Ürüne yapılan yorum"
   ]
  },
  {
   "cell_type": "code",
   "execution_count": 81,
   "id": "a027138f",
   "metadata": {},
   "outputs": [],
   "source": [
    "from warnings import filterwarnings\n",
    "import matplotlib.pyplot as plt\n",
    "import numpy as np\n",
    "import pandas as pd\n",
    "from PIL import Image\n",
    "from nltk.corpus import stopwords\n",
    "from nltk.sentiment import SentimentIntensityAnalyzer\n",
    "from sklearn.ensemble import RandomForestClassifier\n",
    "from sklearn.linear_model import LogisticRegression\n",
    "from sklearn.model_selection import cross_val_score, GridSearchCV, cross_validate,train_test_split\n",
    "from sklearn.metrics import classification_report\n",
    "from sklearn.preprocessing import LabelEncoder\n",
    "from textblob import Word, TextBlob\n",
    "from wordcloud import WordCloud\n",
    "\n",
    "filterwarnings('ignore')\n",
    "pd.set_option('display.max_columns', None)\n",
    "pd.set_option('display.width', 200)\n",
    "pd.set_option('display.float_format', lambda x: '%.2f' % x)"
   ]
  },
  {
   "cell_type": "markdown",
   "id": "fd5a7520",
   "metadata": {},
   "source": [
    "# GÖREV 1: Metin Ön İşleme"
   ]
  },
  {
   "cell_type": "markdown",
   "id": "2d97ecf1",
   "metadata": {},
   "source": [
    "* Adım 1: \"amazon.xlsx\" verisini okutunuz."
   ]
  },
  {
   "cell_type": "code",
   "execution_count": 125,
   "id": "7ad1f405",
   "metadata": {},
   "outputs": [
    {
     "data": {
      "text/html": [
       "<div>\n",
       "<style scoped>\n",
       "    .dataframe tbody tr th:only-of-type {\n",
       "        vertical-align: middle;\n",
       "    }\n",
       "\n",
       "    .dataframe tbody tr th {\n",
       "        vertical-align: top;\n",
       "    }\n",
       "\n",
       "    .dataframe thead th {\n",
       "        text-align: right;\n",
       "    }\n",
       "</style>\n",
       "<table border=\"1\" class=\"dataframe\">\n",
       "  <thead>\n",
       "    <tr style=\"text-align: right;\">\n",
       "      <th></th>\n",
       "      <th>Star</th>\n",
       "      <th>HelpFul</th>\n",
       "      <th>Title</th>\n",
       "      <th>Review</th>\n",
       "    </tr>\n",
       "  </thead>\n",
       "  <tbody>\n",
       "    <tr>\n",
       "      <th>0</th>\n",
       "      <td>5</td>\n",
       "      <td>0</td>\n",
       "      <td>looks great</td>\n",
       "      <td>Happy with it</td>\n",
       "    </tr>\n",
       "    <tr>\n",
       "      <th>1</th>\n",
       "      <td>5</td>\n",
       "      <td>0</td>\n",
       "      <td>Pattern did not align between the two panels.</td>\n",
       "      <td>Good quality material however the panels are m...</td>\n",
       "    </tr>\n",
       "    <tr>\n",
       "      <th>2</th>\n",
       "      <td>5</td>\n",
       "      <td>0</td>\n",
       "      <td>Imagery is stretched. Still fun.</td>\n",
       "      <td>Product was fun for bedroom windows.&lt;br /&gt;Imag...</td>\n",
       "    </tr>\n",
       "    <tr>\n",
       "      <th>3</th>\n",
       "      <td>5</td>\n",
       "      <td>0</td>\n",
       "      <td>Que se ven elegantes muy finas</td>\n",
       "      <td>Lo unico que me gustaria es que sean un poco ...</td>\n",
       "    </tr>\n",
       "    <tr>\n",
       "      <th>4</th>\n",
       "      <td>5</td>\n",
       "      <td>0</td>\n",
       "      <td>Wow great purchase</td>\n",
       "      <td>Great bang for the buck I can't believe the qu...</td>\n",
       "    </tr>\n",
       "  </tbody>\n",
       "</table>\n",
       "</div>"
      ],
      "text/plain": [
       "   Star  HelpFul                                          Title                                             Review\n",
       "0     5        0                                    looks great                                      Happy with it\n",
       "1     5        0  Pattern did not align between the two panels.  Good quality material however the panels are m...\n",
       "2     5        0               Imagery is stretched. Still fun.  Product was fun for bedroom windows.<br />Imag...\n",
       "3     5        0                 Que se ven elegantes muy finas   Lo unico que me gustaria es que sean un poco ...\n",
       "4     5        0                             Wow great purchase  Great bang for the buck I can't believe the qu..."
      ]
     },
     "execution_count": 125,
     "metadata": {},
     "output_type": "execute_result"
    }
   ],
   "source": [
    "df = pd.read_csv(\"datasets/amazon.csv\", sep=\",\")\n",
    "df.head()"
   ]
  },
  {
   "cell_type": "markdown",
   "id": "852bb60e",
   "metadata": {},
   "source": [
    "* Adım 2: Review değişkeni üzerinde ;\n",
    "         .Tüm harfleri küçük harfe çeviriniz.\n",
    "         . Noktalama işaretlerini çıkarınız.\n",
    "         . Yorumlarda bulunan sayısal ifadeleri çıkarınız.\n",
    "         . Bilgi içermeyen kelimeleri (stopwords) veriden çıkarınız.\n",
    "         . 1000'den az geçen kelimeleri veriden çıkarınız.\n",
    "         . Lemmatization işlemini uygulayınız."
   ]
  },
  {
   "cell_type": "code",
   "execution_count": 126,
   "id": "cf6d5600",
   "metadata": {},
   "outputs": [
    {
     "data": {
      "text/plain": [
       "0                                           happy with it\n",
       "1       good quality material however the panels are m...\n",
       "2       product was fun for bedroom windows.<br />imag...\n",
       "3        lo unico que me gustaria es que sean un poco ...\n",
       "4       great bang for the buck i can't believe the qu...\n",
       "                              ...                        \n",
       "5606    great product for reasonable money.  delivered...\n",
       "5607             color is way off and panels do not match\n",
       "5608    these are great for my studio as they compleme...\n",
       "5609    brought out the beauty in kids room. they love...\n",
       "5610    very cute curtains in my sons room! thick enou...\n",
       "Name: Review, Length: 5611, dtype: object"
      ]
     },
     "execution_count": 126,
     "metadata": {},
     "output_type": "execute_result"
    }
   ],
   "source": [
    "# Küçük harfe çevirelim.\n",
    "\n",
    "df[\"Review\"] = df[\"Review\"].str.lower()\n",
    "df[\"Review\"]"
   ]
  },
  {
   "cell_type": "code",
   "execution_count": 127,
   "id": "6783e4d7",
   "metadata": {},
   "outputs": [
    {
     "data": {
      "text/plain": [
       "0                                           happy with it\n",
       "1       good quality material however the panels are m...\n",
       "2       product was fun for bedroom windowsbr imagery ...\n",
       "3        lo unico que me gustaria es que sean un poco ...\n",
       "4       great bang for the buck i cant believe the qua...\n",
       "                              ...                        \n",
       "5606    great product for reasonable money  delivered ...\n",
       "5607             color is way off and panels do not match\n",
       "5608    these are great for my studio as they compleme...\n",
       "5609     brought out the beauty in kids room they love it\n",
       "5610    very cute curtains in my sons room thick enoug...\n",
       "Name: Review, Length: 5611, dtype: object"
      ]
     },
     "execution_count": 127,
     "metadata": {},
     "output_type": "execute_result"
    }
   ],
   "source": [
    "# Noktalama işaretlerini çıkaralım.\n",
    "\n",
    "df[\"Review\"] = df[\"Review\"].str.replace('[^\\w\\s]', '')\n",
    "df[\"Review\"]"
   ]
  },
  {
   "cell_type": "code",
   "execution_count": 128,
   "id": "a220446f",
   "metadata": {},
   "outputs": [
    {
     "data": {
      "text/plain": [
       "0                                           happy with it\n",
       "1       good quality material however the panels are m...\n",
       "2       product was fun for bedroom windowsbr imagery ...\n",
       "3        lo unico que me gustaria es que sean un poco ...\n",
       "4       great bang for the buck i cant believe the qua...\n",
       "                              ...                        \n",
       "5606    great product for reasonable money  delivered ...\n",
       "5607             color is way off and panels do not match\n",
       "5608    these are great for my studio as they compleme...\n",
       "5609     brought out the beauty in kids room they love it\n",
       "5610    very cute curtains in my sons room thick enoug...\n",
       "Name: Review, Length: 5611, dtype: object"
      ]
     },
     "execution_count": 128,
     "metadata": {},
     "output_type": "execute_result"
    }
   ],
   "source": [
    "# Yorumlarda bulunan sayısal ifadeleri çıkarınız.\n",
    "\n",
    "df[\"Review\"] = df[\"Review\"].str.replace('\\d', '')\n",
    "df[\"Review\"]"
   ]
  },
  {
   "cell_type": "code",
   "execution_count": 129,
   "id": "886ee505",
   "metadata": {},
   "outputs": [
    {
     "data": {
      "text/plain": [
       "0                                                   happy\n",
       "1         good quality material however panels mismatched\n",
       "2       product fun bedroom windowsbr imagery bit stre...\n",
       "3       lo unico que gustaria es que sean un poco mas ...\n",
       "4       great bang buck cant believe quality material ...\n",
       "                              ...                        \n",
       "5606    great product reasonable money delivered quick...\n",
       "5607                               color way panels match\n",
       "5608    great studio complement entire theme studioliv...\n",
       "5609                        brought beauty kids room love\n",
       "5610      cute curtains sons room thick enough keep light\n",
       "Name: Review, Length: 5611, dtype: object"
      ]
     },
     "execution_count": 129,
     "metadata": {},
     "output_type": "execute_result"
    }
   ],
   "source": [
    "# Bilgi içermeyen kelimeleri (stopwords) veriden çıkarınız.\n",
    "\n",
    "sw = stopwords.words('english')\n",
    "\n",
    "df['Review'] = df['Review'].apply(lambda x: \" \".join(x for x in str(x).split() if x not in sw))\n",
    "df['Review']"
   ]
  },
  {
   "cell_type": "code",
   "execution_count": 1,
   "id": "3d2b45dd",
   "metadata": {},
   "outputs": [],
   "source": [
    "#1000'den az geçen kelimeleri veriden çıkarınız.\n",
    "\n",
    "#temp_df = pd.Series(' '.join(df['Review']).split()).value_counts()  # Bir thresholda göre ayıklama yapacağımız için tüm kelimeleri saydırıyoruz.\n",
    "\n",
    "#drops = temp_df[temp_df <= 1000]\n",
    "\n",
    "#df['Review'] = df['Review'].apply(lambda x: \" \".join(x for x in x.split() if x not in drops))\n",
    "#df['Review']\n",
    "\n",
    "\n",
    "#Frekansa göre kelimeleri ayıkladıktan sonra ortaya çıkan boş satırlardan kurtulalım.\n",
    "\n",
    "#df[\"Review\"] = df.Review.replace(\"\", np.nan)\n",
    "#df.dropna(inplace=True)\n",
    "#df[\"Review\"]"
   ]
  },
  {
   "cell_type": "code",
   "execution_count": 130,
   "id": "ad2c7807",
   "metadata": {},
   "outputs": [
    {
     "data": {
      "text/plain": [
       "0                                                   happy\n",
       "1          good quality material however panel mismatched\n",
       "2       product fun bedroom windowsbr imagery bit stre...\n",
       "3       lo unico que gustaria e que sean un poco ma la...\n",
       "4       great bang buck cant believe quality material ...\n",
       "                              ...                        \n",
       "5606    great product reasonable money delivered quick...\n",
       "5607                                color way panel match\n",
       "5608    great studio complement entire theme studioliv...\n",
       "5609                         brought beauty kid room love\n",
       "5610        cute curtain son room thick enough keep light\n",
       "Name: Review, Length: 5611, dtype: object"
      ]
     },
     "execution_count": 130,
     "metadata": {},
     "output_type": "execute_result"
    }
   ],
   "source": [
    "# Lemmatization işlemini uygulayınız.\n",
    "\n",
    "df['Review'] = df['Review'].apply(lambda x: \" \".join([Word(word).lemmatize() for word in x.split()]))\n",
    "df['Review']"
   ]
  },
  {
   "cell_type": "markdown",
   "id": "3ce3a324",
   "metadata": {},
   "source": [
    "# GÖREV 2: Metin Görselleştirme"
   ]
  },
  {
   "cell_type": "markdown",
   "id": "86d6fd28",
   "metadata": {},
   "source": [
    "* Adım 1: Barplot görselleştirme işlemi için;\n",
    "        . \"Review\" değişkeninin içerdiği kelimeleri frekanslarını hesaplayınız, tf olarak kaydediniz.\n",
    "        .  tf dataframe'inin sütunlarını yeniden adlandırınız: \"words\", \"tf\" şeklinde.\n",
    "        . \"tf\" değişkeninin değeri 500'den çok olanlara göre filtreleme işlemi yaparak barplot ile görselleştirme işlemini tamamlayınız."
   ]
  },
  {
   "cell_type": "code",
   "execution_count": 131,
   "id": "cc28ac98",
   "metadata": {},
   "outputs": [
    {
     "data": {
      "text/html": [
       "<div>\n",
       "<style scoped>\n",
       "    .dataframe tbody tr th:only-of-type {\n",
       "        vertical-align: middle;\n",
       "    }\n",
       "\n",
       "    .dataframe tbody tr th {\n",
       "        vertical-align: top;\n",
       "    }\n",
       "\n",
       "    .dataframe thead th {\n",
       "        text-align: right;\n",
       "    }\n",
       "</style>\n",
       "<table border=\"1\" class=\"dataframe\">\n",
       "  <thead>\n",
       "    <tr style=\"text-align: right;\">\n",
       "      <th></th>\n",
       "      <th>words</th>\n",
       "      <th>tf</th>\n",
       "    </tr>\n",
       "  </thead>\n",
       "  <tbody>\n",
       "    <tr>\n",
       "      <th>0</th>\n",
       "      <td>happy</td>\n",
       "      <td>196.00</td>\n",
       "    </tr>\n",
       "    <tr>\n",
       "      <th>1</th>\n",
       "      <td>good</td>\n",
       "      <td>536.00</td>\n",
       "    </tr>\n",
       "    <tr>\n",
       "      <th>2</th>\n",
       "      <td>quality</td>\n",
       "      <td>889.00</td>\n",
       "    </tr>\n",
       "    <tr>\n",
       "      <th>3</th>\n",
       "      <td>material</td>\n",
       "      <td>565.00</td>\n",
       "    </tr>\n",
       "    <tr>\n",
       "      <th>4</th>\n",
       "      <td>however</td>\n",
       "      <td>78.00</td>\n",
       "    </tr>\n",
       "  </tbody>\n",
       "</table>\n",
       "</div>"
      ],
      "text/plain": [
       "      words     tf\n",
       "0     happy 196.00\n",
       "1      good 536.00\n",
       "2   quality 889.00\n",
       "3  material 565.00\n",
       "4   however  78.00"
      ]
     },
     "execution_count": 131,
     "metadata": {},
     "output_type": "execute_result"
    }
   ],
   "source": [
    "# Kelimelerin frekanslarını çıkaralım.\n",
    "\n",
    "tf = df[\"Review\"].apply(lambda x: pd.value_counts(x.split(\" \"))).sum(axis=0).reset_index()\n",
    "tf.columns = [\"words\", \"tf\"]\n",
    "tf.head()"
   ]
  },
  {
   "cell_type": "code",
   "execution_count": 132,
   "id": "93dc9010",
   "metadata": {},
   "outputs": [
    {
     "data": {
      "image/png": "[encoded data removed]",
      "text/plain": [
       "<Figure size 432x288 with 1 Axes>"
      ]
     },
     "metadata": {
      "needs_background": "light"
     },
     "output_type": "display_data"
    }
   ],
   "source": [
    "# tf değişkeninin 500'den çok olanlarına barplot uygulayalım.\n",
    "\n",
    "tf[tf[\"tf\"] > 500].plot.bar(x=\"words\", y=\"tf\")\n",
    "plt.show()\n",
    "# En çok geçen kelimenin \"curtain\" olduğu gözüküyor."
   ]
  },
  {
   "cell_type": "markdown",
   "id": "3d103ce3",
   "metadata": {},
   "source": [
    "* Adım 2: WordCloud görselleştirme işlemi için; ;\n",
    "            .\"Review\" değişkeninin içerdiği tüm kelimeleri \"text\" isminde string olarak kaydediniz.\n",
    "            . WordCloud kullanarak şablon şeklinizi belirleyip kaydediniz.\n",
    "            . Kaydettiğiniz wordcloud'u ilk adımda oluşturduğunuz string ile generate ediniz.\n",
    "            . Görselleştirme adımlarını tamamlayınız. (figure, imshow, axis, show)"
   ]
  },
  {
   "cell_type": "code",
   "execution_count": 133,
   "id": "2d2ac49a",
   "metadata": {},
   "outputs": [
    {
     "data": {
      "image/png": "[encoded data removed]",
      "text/plain": [
       "<Figure size 432x288 with 1 Axes>"
      ]
     },
     "metadata": {
      "needs_background": "light"
     },
     "output_type": "display_data"
    }
   ],
   "source": [
    "text = \" \".join(i for i in df.Review)\n",
    "\n",
    "wordcloud = WordCloud(max_font_size=50,\n",
    "                      max_words=100,\n",
    "                      background_color=\"white\").generate(text)\n",
    "plt.figure()\n",
    "plt.imshow(wordcloud, interpolation=\"bilinear\")\n",
    "plt.axis(\"off\")\n",
    "plt.show()"
   ]
  },
  {
   "cell_type": "markdown",
   "id": "5dfa5da1",
   "metadata": {},
   "source": [
    "# Görev 3: Duygu Analizi "
   ]
  },
  {
   "cell_type": "markdown",
   "id": "ee938edf",
   "metadata": {},
   "source": [
    "* Adım 1: Python içerisindeki NLTK paketinde tanımlanmış olan SentimentIntensityAnalyzer nesnesini oluşturunuz."
   ]
  },
  {
   "cell_type": "code",
   "execution_count": 134,
   "id": "fb93a64f",
   "metadata": {},
   "outputs": [],
   "source": [
    "# nltk.download('vader_lexicon')\n",
    "\n",
    "# Metinlerden matematiksel skor çıkarmak için gerekli nesnemiz\n",
    "sia = SentimentIntensityAnalyzer()"
   ]
  },
  {
   "cell_type": "markdown",
   "id": "8120bfdd",
   "metadata": {},
   "source": [
    "* Adım 2: SentimentIntensityAnalyzer nesnesi ile polarite puanlarının inceleyiniz;\n",
    "        . \"Review\" değişkeninin ilk 10 gözlemi için polarity_scores() hesaplayınız.\n",
    "        . İncelenen ilk 10 gözlem için compund skorlarına göre filtrelenerek tekrar gözlemleyiniz.\n",
    "        . 10 gözlem için compound skorları 0'dan büyükse \"pos\" değilse \"neg\" şeklinde güncelleyiniz.\n",
    "        . \"Review\" değişkenindeki tüm gözlemler için pos-neg atamasını yaparak yeni bir değişken olarak dataframe'e"
   ]
  },
  {
   "cell_type": "code",
   "execution_count": 135,
   "id": "ca23443b",
   "metadata": {},
   "outputs": [
    {
     "data": {
      "text/plain": [
       "0   0.57\n",
       "1   0.44\n",
       "2   0.72\n",
       "3   0.00\n",
       "4   0.90\n",
       "5   0.00\n",
       "6   0.62\n",
       "7   0.91\n",
       "8   0.00\n",
       "9   0.71\n",
       "Name: polarity_score, dtype: float64"
      ]
     },
     "execution_count": 135,
     "metadata": {},
     "output_type": "execute_result"
    }
   ],
   "source": [
    "df[\"polarity_score\"] = df[\"Review\"].apply(lambda x: sia.polarity_scores(x)[\"compound\"])\n",
    "df.polarity_score[:10]"
   ]
  },
  {
   "cell_type": "code",
   "execution_count": 136,
   "id": "9bb4b6ac",
   "metadata": {},
   "outputs": [
    {
     "data": {
      "text/plain": [
       "pos    4767\n",
       "neg     844\n",
       "Name: sentiment_label, dtype: int64"
      ]
     },
     "execution_count": 136,
     "metadata": {},
     "output_type": "execute_result"
    }
   ],
   "source": [
    "df[\"sentiment_label\"] = df[\"Review\"].apply(lambda x: \"pos\" if sia.polarity_scores(x)[\"compound\"] > 0 else \"neg\")\n",
    "\n",
    "df[\"sentiment_label\"].value_counts()"
   ]
  },
  {
   "cell_type": "code",
   "execution_count": 137,
   "id": "fecd1245",
   "metadata": {},
   "outputs": [
    {
     "data": {
      "text/html": [
       "<div>\n",
       "<style scoped>\n",
       "    .dataframe tbody tr th:only-of-type {\n",
       "        vertical-align: middle;\n",
       "    }\n",
       "\n",
       "    .dataframe tbody tr th {\n",
       "        vertical-align: top;\n",
       "    }\n",
       "\n",
       "    .dataframe thead th {\n",
       "        text-align: right;\n",
       "    }\n",
       "</style>\n",
       "<table border=\"1\" class=\"dataframe\">\n",
       "  <thead>\n",
       "    <tr style=\"text-align: right;\">\n",
       "      <th></th>\n",
       "      <th>Star</th>\n",
       "      <th>HelpFul</th>\n",
       "      <th>Title</th>\n",
       "      <th>Review</th>\n",
       "      <th>polarity_score</th>\n",
       "      <th>sentiment_label</th>\n",
       "    </tr>\n",
       "  </thead>\n",
       "  <tbody>\n",
       "    <tr>\n",
       "      <th>0</th>\n",
       "      <td>5</td>\n",
       "      <td>0</td>\n",
       "      <td>looks great</td>\n",
       "      <td>happy</td>\n",
       "      <td>0.57</td>\n",
       "      <td>pos</td>\n",
       "    </tr>\n",
       "    <tr>\n",
       "      <th>1</th>\n",
       "      <td>5</td>\n",
       "      <td>0</td>\n",
       "      <td>Pattern did not align between the two panels.</td>\n",
       "      <td>good quality material however panel mismatched</td>\n",
       "      <td>0.44</td>\n",
       "      <td>pos</td>\n",
       "    </tr>\n",
       "    <tr>\n",
       "      <th>2</th>\n",
       "      <td>5</td>\n",
       "      <td>0</td>\n",
       "      <td>Imagery is stretched. Still fun.</td>\n",
       "      <td>product fun bedroom windowsbr imagery bit stre...</td>\n",
       "      <td>0.72</td>\n",
       "      <td>pos</td>\n",
       "    </tr>\n",
       "    <tr>\n",
       "      <th>3</th>\n",
       "      <td>5</td>\n",
       "      <td>0</td>\n",
       "      <td>Que se ven elegantes muy finas</td>\n",
       "      <td>lo unico que gustaria e que sean un poco ma la...</td>\n",
       "      <td>0.00</td>\n",
       "      <td>neg</td>\n",
       "    </tr>\n",
       "    <tr>\n",
       "      <th>4</th>\n",
       "      <td>5</td>\n",
       "      <td>0</td>\n",
       "      <td>Wow great purchase</td>\n",
       "      <td>great bang buck cant believe quality material ...</td>\n",
       "      <td>0.90</td>\n",
       "      <td>pos</td>\n",
       "    </tr>\n",
       "  </tbody>\n",
       "</table>\n",
       "</div>"
      ],
      "text/plain": [
       "   Star  HelpFul                                          Title                                             Review  polarity_score sentiment_label\n",
       "0     5        0                                    looks great                                              happy            0.57             pos\n",
       "1     5        0  Pattern did not align between the two panels.     good quality material however panel mismatched            0.44             pos\n",
       "2     5        0               Imagery is stretched. Still fun.  product fun bedroom windowsbr imagery bit stre...            0.72             pos\n",
       "3     5        0                 Que se ven elegantes muy finas  lo unico que gustaria e que sean un poco ma la...            0.00             neg\n",
       "4     5        0                             Wow great purchase  great bang buck cant believe quality material ...            0.90             pos"
      ]
     },
     "execution_count": 137,
     "metadata": {},
     "output_type": "execute_result"
    }
   ],
   "source": [
    "df.head()"
   ]
  },
  {
   "cell_type": "code",
   "execution_count": 138,
   "id": "82e009bb",
   "metadata": {},
   "outputs": [
    {
     "data": {
      "text/plain": [
       "sentiment_label\n",
       "neg   3.39\n",
       "pos   4.59\n",
       "Name: Star, dtype: float64"
      ]
     },
     "execution_count": 138,
     "metadata": {},
     "output_type": "execute_result"
    }
   ],
   "source": [
    "# Oluşturduğumuz \"label\" kırılımında verilen yıldızların ortalamasına bakalım.\n",
    "\n",
    "df.groupby(\"sentiment_label\")[\"Star\"].mean()\n",
    "# Pozitif olarak etiketlediğimiz yorumlara verilen yıldız sayısının daha yüksek olduğunu görüyoruz."
   ]
  },
  {
   "cell_type": "code",
   "execution_count": 139,
   "id": "2daf32b9",
   "metadata": {},
   "outputs": [
    {
     "data": {
      "text/plain": [
       "sentiment_label\n",
       "neg   0.82\n",
       "pos   1.01\n",
       "Name: HelpFul, dtype: float64"
      ]
     },
     "execution_count": 139,
     "metadata": {},
     "output_type": "execute_result"
    }
   ],
   "source": [
    "# Oluşturduğumuz \"label\" kırılımında faydalı bulunan yorumların sayısının ortalamasına bakalım.\n",
    "\n",
    "df.groupby(\"sentiment_label\")[\"HelpFul\"].mean()\n",
    "\n",
    "# Pozitif olarak sınıflandırdığımız yorumları faydalı bulanlar (destekleyenler) oldukça fazla."
   ]
  },
  {
   "cell_type": "markdown",
   "id": "7640376f",
   "metadata": {},
   "source": [
    "* NOT: Sentiment Intensity Analyzer ile yorumları etiketleyerek, yorum sınıflandırma makine öğrenmesi modeli için bağımlı değişken oluşturulmuş oldu."
   ]
  },
  {
   "cell_type": "markdown",
   "id": "c2185013",
   "metadata": {},
   "source": [
    "# Görev 4: Makine Öğrenmesine Hazırlık"
   ]
  },
  {
   "cell_type": "markdown",
   "id": "446ea45c",
   "metadata": {},
   "source": [
    "* Adım 1: Bağımlı ve bağımsız değişkenlerimizi belirleyerek datayı train test olarak ayırınız.\n"
   ]
  },
  {
   "cell_type": "code",
   "execution_count": 140,
   "id": "29db3ce2",
   "metadata": {},
   "outputs": [],
   "source": [
    "# Target değişkenimizi LabelEncoder'dan geçiriyoruz.\n",
    "df[\"sentiment_label\"] = LabelEncoder().fit_transform(df[\"sentiment_label\"])\n",
    "\n",
    "y = df[\"sentiment_label\"]\n",
    "X = df[\"Review\"]\n",
    "\n",
    "X_train, X_test, y_train, y_test = train_test_split(X, y, test_size=0.3, random_state=42)"
   ]
  },
  {
   "cell_type": "markdown",
   "id": "52551aae",
   "metadata": {},
   "source": [
    "* Adım 2: Makine öğrenmesi modeline verileri verebilmemiz için temsil şekillerini sayısala çevirmemiz gerekmekte;\n",
    "            . TfidfVectorizer kullanarak bir nesne oluşturunuz.\n",
    "            . Daha önce ayırmış olduğumuz train datamızı kullanarak oluşturduğumuz nesneye fit ediniz.\n",
    "            . Oluşturmuş olduğumuz vektörü train ve test datalarına transform işlemini uygulayıp kaydediniz."
   ]
  },
  {
   "cell_type": "code",
   "execution_count": 141,
   "id": "14ca18cb",
   "metadata": {},
   "outputs": [],
   "source": [
    "# TF-IDF\n",
    "# word frekans\n",
    "\n",
    "from sklearn.feature_extraction.text import TfidfVectorizer\n",
    "tf_idf_word_vectorizer = TfidfVectorizer()\n",
    "X_train_tf_idf_word = tf_idf_word_vectorizer.fit_transform(X_train)  # X_train için TF-IDF yöntemi ile word frekans\n",
    "X_test_tf_idf_word = tf_idf_word_vectorizer.fit_transform(X_test)    # X_test için TF-IDF yöntemi ile word frekans"
   ]
  },
  {
   "cell_type": "markdown",
   "id": "92f75d6d",
   "metadata": {},
   "source": [
    "# Görev 5: Modelleme (Lojistik Regresyon)"
   ]
  },
  {
   "cell_type": "markdown",
   "id": "14755763",
   "metadata": {},
   "source": [
    "* Adım 1: Lojistik regresyon modelini kurarak train dataları ile fit ediniz.\n"
   ]
  },
  {
   "cell_type": "code",
   "execution_count": 142,
   "id": "db215937",
   "metadata": {},
   "outputs": [],
   "source": [
    "log_model = LogisticRegression().fit(X_train_tf_idf_word, y_train)"
   ]
  },
  {
   "cell_type": "markdown",
   "id": "40b582e1",
   "metadata": {},
   "source": [
    "* Adım 2: Kurmuş olduğunuz model ile tahmin işlemleri gerçekleştiriniz;\n",
    "            . Predict fonksiyonu ile test datasını tahmin ederek kaydediniz.\n",
    "            . classification_report ile tahmin sonuçlarınızı raporlayıp gözlemleyiniz.\n",
    "            . cross validation fonksiyonunu kullanarak ortalama accuracy değerini hesaplayınız."
   ]
  },
  {
   "cell_type": "code",
   "execution_count": 124,
   "id": "390678e8",
   "metadata": {},
   "outputs": [
    {
     "name": "stdout",
     "output_type": "stream",
     "text": [
      "              precision    recall  f1-score   support\n",
      "\n",
      "           0       0.97      1.00      0.98       329\n",
      "           1       1.00      0.98      0.99       593\n",
      "\n",
      "    accuracy                           0.99       922\n",
      "   macro avg       0.98      0.99      0.99       922\n",
      "weighted avg       0.99      0.99      0.99       922\n",
      "\n"
     ]
    }
   ],
   "source": [
    "# Test datası üzerinde word frekans tabanlı modelimizin başarısı\n",
    "\n",
    "y_pred = log_model.predict(X_test_tf_idf_word)\n",
    "print(classification_report(y_test, y_pred))"
   ]
  },
  {
   "cell_type": "code",
   "execution_count": 143,
   "id": "ca2e90f3",
   "metadata": {},
   "outputs": [
    {
     "data": {
      "text/plain": [
       "0.8790421549083485"
      ]
     },
     "execution_count": 143,
     "metadata": {},
     "output_type": "execute_result"
    }
   ],
   "source": [
    "# Train datası için cross validation\n",
    "\n",
    "cross_val_score(log_model,\n",
    "                X_train_tf_idf_word,\n",
    "                y_train,\n",
    "                scoring=\"accuracy\",\n",
    "                cv=5).mean()"
   ]
  },
  {
   "cell_type": "code",
   "execution_count": 144,
   "id": "85d76ecd",
   "metadata": {},
   "outputs": [
    {
     "data": {
      "text/plain": [
       "0.8574802176063304"
      ]
     },
     "execution_count": 144,
     "metadata": {},
     "output_type": "execute_result"
    }
   ],
   "source": [
    "# Test datası için cross validation\n",
    "\n",
    "cross_val_score(log_model,\n",
    "                X_test_tf_idf_word,\n",
    "                y_test,\n",
    "                scoring=\"accuracy\",\n",
    "                cv=5).mean()"
   ]
  },
  {
   "cell_type": "markdown",
   "id": "8f7b4063",
   "metadata": {},
   "source": [
    "* Adım 3: Veride bulunan yorumlardan rastgele seçerek modele sorulması;\n",
    "        .sample fonksiyonu ile \"Review\" değişkeni içerisinden örneklem seçierek yeni bir değere atayınız.\n",
    "        .Elde ettiğiniz örneklemi modelin tahmin edebilmesi için CountVectorizer ile vektörleştiriniz.\n",
    "        .Vektörleştirdiğiniz örneklemi fit ve transform işlemlerini yaparak kaydediniz.\n",
    "        .Kurmuş olduğunuz modele örneklemi vererek tahmin sonucunu kaydediniz.\n",
    "        .Örneklemi ve tahmin sonucunu ekrana yazdırınız."
   ]
  },
  {
   "cell_type": "code",
   "execution_count": 145,
   "id": "557bdd50",
   "metadata": {},
   "outputs": [
    {
     "data": {
      "text/plain": [
       "array([1])"
      ]
     },
     "execution_count": 145,
     "metadata": {},
     "output_type": "execute_result"
    }
   ],
   "source": [
    "# Verimizden random bir Review seçiyoruz.\n",
    "\n",
    "random_review = pd.Series(df[\"Review\"].sample(1).values)\n",
    "\n",
    "# Gelen ham yorumu daha önce yaptığımız işlemlerden geçirmeyi unutmamalıyız!\n",
    "\n",
    "from sklearn.feature_extraction.text import CountVectorizer\n",
    "\n",
    "new_review = CountVectorizer().fit(X_train).transform(random_review)\n",
    "log_model.predict(new_review)\n",
    "\n",
    "# Modelimiz gelen yorum için \"1\" çıktısı verdi."
   ]
  },
  {
   "cell_type": "markdown",
   "id": "edbfb2e0",
   "metadata": {},
   "source": [
    "# Görev 5: Modelleme (Random Forests)"
   ]
  },
  {
   "cell_type": "markdown",
   "id": "d1acee3a",
   "metadata": {},
   "source": [
    "* Adım 1: Random Forest modeli ile tahmin sonuçlarının gözlenmesi;\n",
    "        .RandomForestClassifier modelini kurup fit ediniz.\n",
    "        .Cross validation fonksiyonunu kullanarak ortalama accuracy değerini hesaplayınız.\n",
    "        .Lojistik regresyon modeli ile sonuçları karşılaştırınız."
   ]
  },
  {
   "cell_type": "code",
   "execution_count": 146,
   "id": "ccefe12a",
   "metadata": {},
   "outputs": [],
   "source": [
    "# TF-IDF Word-Level ile modeli fit ettim.\n",
    "rf_model = RandomForestClassifier().fit(X_train_tf_idf_word, y_train)"
   ]
  },
  {
   "cell_type": "code",
   "execution_count": 147,
   "id": "c4201582",
   "metadata": {},
   "outputs": [
    {
     "data": {
      "text/plain": [
       "0.9088351890569035"
      ]
     },
     "execution_count": 147,
     "metadata": {},
     "output_type": "execute_result"
    }
   ],
   "source": [
    "# Train datası için accuracy\n",
    "cross_val_score(rf_model,\n",
    "                X_train_tf_idf_word,\n",
    "                y_train,\n",
    "                scoring=\"accuracy\",\n",
    "                cv=5).mean()"
   ]
  },
  {
   "cell_type": "code",
   "execution_count": 148,
   "id": "9c1e89db",
   "metadata": {},
   "outputs": [
    {
     "data": {
      "text/plain": [
       "0.892507418397626"
      ]
     },
     "execution_count": 148,
     "metadata": {},
     "output_type": "execute_result"
    }
   ],
   "source": [
    "# Test datası için accuracy\n",
    "cross_val_score(rf_model,\n",
    "                X_test_tf_idf_word,\n",
    "                y_test,\n",
    "                scoring=\"accuracy\",\n",
    "                cv=5).mean()"
   ]
  },
  {
   "cell_type": "markdown",
   "id": "83f4fea8",
   "metadata": {},
   "source": [
    "* LogisticRegression, test datası üzerinde accuracy değeri = 0.85 , train datası üzerinde accuracy değeri = 0.87\n",
    "\n",
    "* RandomForest, test data üzerinde accuracy değeri = 0.89 , train datası üzerinde accuracy değeri = 0.90\n",
    "\n",
    "* Bu modeller için hiperparametre optimizasyonu yapılabilir.\n",
    "\n",
    "* tf_idf_ngram frekans yaklaşımı ile bu işlemler tekrar yapılabilir."
   ]
  }
 ],
 "metadata": {
  "kernelspec": {
   "display_name": "Python 3 (ipykernel)",
   "language": "python",
   "name": "python3"
  },
  "language_info": {
   "codemirror_mode": {
    "name": "ipython",
    "version": 3
   },
   "file_extension": ".py",
   "mimetype": "text/x-python",
   "name": "python",
   "nbconvert_exporter": "python",
   "pygments_lexer": "ipython3",
   "version": "3.9.12"
  }
 },
 "nbformat": 4,
 "nbformat_minor": 5
}
